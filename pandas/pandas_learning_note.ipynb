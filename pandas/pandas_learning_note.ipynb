{
 "cells": [
  {
   "cell_type": "code",
   "execution_count": 2,
   "id": "asian-zoning",
   "metadata": {},
   "outputs": [
    {
     "data": {
      "text/plain": "count     3.000000\nmean     22.666667\nstd      11.015141\nmin      12.000000\n25%      17.000000\n50%      22.000000\n75%      28.000000\nmax      34.000000\nName: Age, dtype: float64"
     },
     "execution_count": 2,
     "metadata": {},
     "output_type": "execute_result"
    }
   ],
   "source": [
    "import pandas as pd\n",
    "df = pd.DataFrame(\n",
    "    {\n",
    "        \"Name\": [\n",
    "            \"Braund, Mr. Owen Harris\",\n",
    "            \"Allen, Mr. William Henry\",\n",
    "            \"Bonnell, Miss. Elizabeth\",\n",
    "        ],\n",
    "        \"Age\": [22, 35, 58],\n",
    "        \"Sex\": [\"male\", \"male\", \"female\"],\n",
    "    }\n",
    ")\n",
    "df['Age']\n",
    "\n",
    "# create a series\n",
    "ages = pd.Series([22, 34, 12], name = \"Age\")\n",
    "type(ages)\n",
    "\n",
    "# do things with series\n",
    "df['Age'].max()\n",
    "ages.max()\n",
    "ages.describe() # basic statistics\n"
   ]
  },
  {
   "cell_type": "code",
   "execution_count": 6,
   "outputs": [],
   "source": [
    "# Test read and write\n",
    "# import os\n",
    "# file = \"https://raw.githubusercontent.com/wesm/pydata-book/2nd-edition/datasets/titanic/test.csv\"\n",
    "# os.system(\"wget \" + file)\n",
    "# titanic = pd.read_csv(\"pandas/test.csv\")\n",
    "titanic = pd.read_csv(\"test.csv\")\n",
    "titanic\n",
    "titanic.head(2)\n",
    "titanic.head(0)\n",
    "# titanic.tail()\n",
    "titanic.dtypes\n",
    "titanic.to_excel(\"titanic.xlsx\", sheet_name = \"passengers\", index = False)"
   ],
   "metadata": {
    "collapsed": false,
    "pycharm": {
     "name": "#%%\n"
    }
   }
  },
  {
   "cell_type": "code",
   "execution_count": 45,
   "outputs": [
    {
     "name": "stdout",
     "output_type": "stream",
     "text": [
      "    Age     Sex\n",
      "0  34.5    male\n",
      "1  47.0  female\n",
      "2  62.0    male\n",
      "3  27.0    male\n",
      "4  22.0  female\n"
     ]
    },
    {
     "data": {
      "text/plain": "1                       Wilkes, Mrs. James (Ellen Needs)\n2                              Myles, Mr. Thomas Francis\n11                            Jones, Mr. Charles Cresson\n13                                  Howard, Mr. Benjamin\n14     Chaffee, Mrs. Herbert Fuller (Carrie Constance...\n                             ...                        \n404                         Frauenthal, Mr. Isaac Gerald\n407                           Widener, Mr. George Dunton\n411      Minahan, Mrs. William Edward (Lillian E Thorpe)\n414                         Oliva y Ocana, Dona. Fermina\n415                         Saether, Mr. Simon Sivertsen\nName: Name, Length: 105, dtype: object"
     },
     "execution_count": 45,
     "metadata": {},
     "output_type": "execute_result"
    }
   ],
   "source": [
    "import matplotlib.pyplot as plt\n",
    "import seaborn as sns\n",
    "\n",
    "ages = titanic[\"Age\"]\n",
    "titanic[\"Age\"].shape\n",
    "age_sex = titanic[[\"Age\", \"Sex\"]]\n",
    "print(age_sex.head())\n",
    "type(age_sex)\n",
    "above_35 = titanic[titanic[\"Age\"] > 35]\n",
    "# sns.distplot(titanic[\"Age\"], kde = True)\n",
    "# sns.distplot(above_35[\"Age\"], kde = True)\n",
    "# plt.plot()\n",
    "\n",
    "# age_no_na = titanic[titanic[\"Age\"].notna()]\n",
    "# age_no_na.head()\n",
    "# class_231 = titanic[titanic[\"Pclass\"].isin([2, 3])]\n",
    "# class_232 = titanic[(titanic[\"Pclass\"] == 2) | (titanic[\"Pclass\"] == 3)]\n",
    "adult_names = titanic.loc[titanic[\"Age\"]>35, \"Name\"]\n",
    "adult_names"
   ],
   "metadata": {
    "collapsed": false,
    "pycharm": {
     "name": "#%%\n"
    }
   }
  },
  {
   "cell_type": "code",
   "execution_count": 5,
   "outputs": [
    {
     "data": {
      "text/plain": "'/Users/yaoling/OneDrive - NTNU/Self-improvements/LearnedAlgorithms/pandas'"
     },
     "execution_count": 5,
     "metadata": {},
     "output_type": "execute_result"
    }
   ],
   "source": [
    "# References\n",
    "### [Repo](https://github.com/wesm/pydata-book)\n",
    "\n"
   ],
   "metadata": {
    "collapsed": false,
    "pycharm": {
     "name": "#%%\n"
    }
   }
  },
  {
   "cell_type": "markdown",
   "id": "productive-tobago",
   "metadata": {},
   "source": [
    "# References\n",
    "### [Repo](https://github.com/wesm/pydata-book)\n",
    "\n"
   ]
  },
  {
   "cell_type": "code",
   "execution_count": null,
   "id": "sonic-amino",
   "metadata": {},
   "outputs": [],
   "source": []
  },
  {
   "cell_type": "code",
   "execution_count": null,
   "id": "dominican-empty",
   "metadata": {},
   "outputs": [],
   "source": []
  }
 ],
 "metadata": {
  "kernelspec": {
   "display_name": "Python 3",
   "language": "python",
   "name": "python3"
  },
  "language_info": {
   "codemirror_mode": {
    "name": "ipython",
    "version": 3
   },
   "file_extension": ".py",
   "mimetype": "text/x-python",
   "name": "python",
   "nbconvert_exporter": "python",
   "pygments_lexer": "ipython3",
   "version": "3.9.7"
  }
 },
 "nbformat": 4,
 "nbformat_minor": 5
}